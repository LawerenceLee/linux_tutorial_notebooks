{
 "cells": [
  {
   "cell_type": "markdown",
   "metadata": {},
   "source": [
    "# Linux/Mac Tutorial: SSH Key-Based Authentication - How to SSH Without a Password\n",
    "Video Tutorial by: Corey Schafer\n",
    "\n",
    "### Generating Private and Public Keys\n",
    "* `$ ssh-keygen -t rsa -b 4096`\n",
    "    * `-t rsa` just says what kind of key we want\n",
    "    * `-b 4096` (default values is 248) said to make our keys more secure.\n",
    "    * Public Keys reside on your machine, and the private keys reside on the hosts your remoting into.\n",
    "* Once executed it will ask: `Enter file in which to save the key (/home/<user>/.ssh/id_rsa):`\n",
    "    * Press enter to save in default location.\n",
    "* You'll then be prompted with: `Enter passphrase (empty for no passphrase):`\n",
    "    * You may enter one if you would like a password to type in.\n",
    "\n",
    "### Navigate to Keys in filesystem\n",
    "* `$ cd ~/.ssh`\n",
    "* `$ ls -al`\n",
    "    * Prints out the following input:\n",
    "    * ```\n",
    "    total 24\n",
    "    drwx------   5 lawerencelee  staff   160 Nov  8 15:17 .\n",
    "    drwxr-xr-x+ 41 lawerencelee  staff  1312 Nov  8 09:24 ..\n",
    "    -rw-------   1 lawerencelee  staff  3243 Nov  8 15:17 id_rsa\n",
    "    -rw-r--r--   1 lawerencelee  staff   790 Nov  8 15:17 id_rsa.pub\n",
    "    ```\n",
    "    * `id_rsa` is the private key, and `id_rsa.pub` is the public key.\n",
    "    * Make sure remote machine has `.ssh` directory in the home directory.\n",
    "        * If not, on remote machine `mkdir ~/.ssh`\n",
    "        \n",
    "### Transfer Public Key to remote machine\n",
    "* `$ scp ~/.ssh/id_rsa.pub <user>@<ip_address>:/<path to .ssh>/<new_key_name_if_you_like>`\n",
    "* On remote machine: `$ cat ~/.ssh/<public_key_name> >> ~/.ssh/authorized_keys`\n",
    "    * Copy public key to authorized_keys file.\n",
    "\n",
    "### Change Permissions of `.ssh` directory, and its contents.\n",
    "* On remote machine: `$ chmod 700 ~/.ssh/` \n",
    "* On remote machine: `$ chmod 600 ~/.ssh/*`\n",
    "\n",
    "### Check if we can now SSH in without a password.\n",
    "* `$ ssh <user>@<ip_address>`\n",
    "\n",
    "### If you want to turn off Password Authentication and use only your Keys\n",
    "* On remote machine: sudo cp /etc/ssh/sshd_config /etc/ssh/sshd_config.bak\n",
    "    * Create a backup up the config file in case something goes wrong.\n",
    "* On remote machine: `sudo nano /etc/ssh/sshd_config`\n",
    "    * Within the file, look for: \n",
    "       * `# Change to no to disable tunnelled clear text passwords\n",
    "         #PasswordAuthentication yes`\n",
    "    * Uncomment `PasswordAuthentication` line and change answer to `no`.\n",
    "* On remote machine: `sudo service ssh restart`\n",
    "    * Now changes are active.\n",
    "    \n",
    "### The Easy Way to Transfer Public Keys to remote machine:\n",
    "* For Mac users with Homebrew: `$ brew install ssh-copy-id`\n",
    "\n",
    "* `$ ssh-copy-id <user>@<ip_address`\n",
    "    * This automates the process of making a .ssh directory, copying the public key to the remote machine, creating the authorized_keys file, as well as setting the correct permissions for .ssh directory and its files."
   ]
  },
  {
   "cell_type": "code",
   "execution_count": null,
   "metadata": {},
   "outputs": [],
   "source": []
  }
 ],
 "metadata": {
  "kernelspec": {
   "display_name": "Python 3",
   "language": "python",
   "name": "python3"
  },
  "language_info": {
   "codemirror_mode": {
    "name": "ipython",
    "version": 3
   },
   "file_extension": ".py",
   "mimetype": "text/x-python",
   "name": "python",
   "nbconvert_exporter": "python",
   "pygments_lexer": "ipython3",
   "version": "3.6.3"
  }
 },
 "nbformat": 4,
 "nbformat_minor": 2
}

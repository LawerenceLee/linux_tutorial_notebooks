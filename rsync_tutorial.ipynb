{
 "cells": [
  {
   "cell_type": "markdown",
   "metadata": {},
   "source": [
    "# Rsync Tutorial\n",
    "* In this Linux/Mac terminal tutorial, we will be learning how to use the rsync command. The rsync command will allow you to sync file and directories on your local machine or even over a network between servers. This is a great tool for running backups, for only copying diffs, or even for deploying segments of code. -Corey Schafer\n",
    "\n",
    "#### Basic `rsync` command:\n",
    "* `$ rsync <source dir path>/* <backup dir path>/`\n",
    "    * The '*' includes all files in the directory, and must be used if the proper flag is not used.\n",
    "    * All directories within the source folder will be skipped.\n",
    "\n",
    "#### `-r` (Recursive) Flag:\n",
    "* `$ rsync -r <source dir path>/ <backup dir path>/`\n",
    "    * Will recursively sync all files and directories.\n",
    "    * Leaving off the trailing slash of the source directory will copy the directory itself, rather than just the files inside it.\n",
    "    \n",
    "#### `-a` (Archive) Flag:\n",
    "* `$ rsync -a <source dir path>/ <backup dir path>/`\n",
    "    * Will recursively sync all files and directories as `-r` does, but it ALSO preserves symlinks, filepremissons, modification times, group, owners, etc.\n",
    "    \n",
    "#### Performing Dry Runs for large transfers:\n",
    "* `$ rsync -v --dry-run <source dir path>/* <backup dir path>/`\n",
    "    * `-v` flag stands for verbose and prints out all files that are to be copied.\n",
    "    * `--dry-run` flag runs the command without actually performing the transfer, and is best paired with `-v` to see which files would have been copied.\n",
    "    \n",
    "#### `--delete` Flag:\n",
    "* `$ rsync -v --delete <source dir path>/* <dir path to copy files to>/`\n",
    "    * `--delete` will remove all files in the backup directory that are not in the source directory.\n",
    "    * BE CAREFUL WITH THIS FLAG AND DO A DRY RUN FIRST!\n",
    "    \n",
    "#### `-z` (compression) Flag:\n",
    "* `$ rsync -z <source dir path>/* <dir path to copy files to>/`\n",
    "    * `-z` flag compresses files before they are transferred, and is useful for large transfers.\n",
    "\n",
    "#### `-P` (Progress) Flag:\n",
    "* `$ rsync -P <source dir path>/ <dir path to copy files to>/`\n",
    "    * `-P` flag shows progress of transfer, and is useful for large transfers.\n",
    "    \n",
    "#### Syncing Files between computers:\n",
    "* `$ rsync <source dir path>/* <user>@<ip_address>:<backup dir path>`\n",
    "    * Best paired with Key-Based Authentication so that one is not asked for a password each time.\n",
    "* `$ rsync <user>@<ip_address>:<backup dir path>/* <source dir path>/`\n",
    "    * This will also work."
   ]
  },
  {
   "cell_type": "code",
   "execution_count": null,
   "metadata": {},
   "outputs": [],
   "source": []
  }
 ],
 "metadata": {
  "kernelspec": {
   "display_name": "Python 3",
   "language": "python",
   "name": "python3"
  },
  "language_info": {
   "codemirror_mode": {
    "name": "ipython",
    "version": 3
   },
   "file_extension": ".py",
   "mimetype": "text/x-python",
   "name": "python",
   "nbconvert_exporter": "python",
   "pygments_lexer": "ipython3",
   "version": "3.6.3"
  }
 },
 "nbformat": 4,
 "nbformat_minor": 2
}
